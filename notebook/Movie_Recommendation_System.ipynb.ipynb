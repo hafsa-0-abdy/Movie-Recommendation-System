{
  "nbformat": 4,
  "nbformat_minor": 0,
  "metadata": {
    "colab": {
      "provenance": []
    },
    "kernelspec": {
      "name": "python3",
      "display_name": "Python 3"
    },
    "language_info": {
      "name": "python"
    }
  },
  "cells": [
    {
      "cell_type": "markdown",
      "source": [
        "Importing dependencies\n"
      ],
      "metadata": {
        "id": "wd8NmGNihBaP"
      }
    },
    {
      "cell_type": "code",
      "execution_count": 9,
      "metadata": {
        "id": "6w_U6wzg-VSk"
      },
      "outputs": [],
      "source": [
        "import numpy as np\n",
        "import pandas as pd\n",
        "import difflib\n",
        "from sklearn.feature_extraction.text import TfidfVectorizer\n",
        "from sklearn.metrics.pairwise import cosine_similarity"
      ]
    },
    {
      "cell_type": "markdown",
      "source": [
        "Data Pre-proessing& Data collection"
      ],
      "metadata": {
        "id": "8r5mJ5uuipFQ"
      }
    },
    {
      "cell_type": "code",
      "source": [
        "# Loading data from CSV file\n",
        "movie_data = pd.read_csv('/movies.csv')\n",
        "\n",
        "# Checking the number of rows and columns\n",
        "print(\"Dataset Shape:\", movie_data.shape)\n",
        "print(movie_data.head())"
      ],
      "metadata": {
        "colab": {
          "base_uri": "https://localhost:8080/"
        },
        "id": "mBHlwTcOhMgg",
        "outputId": "a191a957-4c35-4218-831b-664db90c4cd5"
      },
      "execution_count": 17,
      "outputs": [
        {
          "output_type": "stream",
          "name": "stdout",
          "text": [
            "Dataset Shape: (4803, 24)\n",
            "   index     budget                                    genres  \\\n",
            "0      0  237000000  Action Adventure Fantasy Science Fiction   \n",
            "1      1  300000000                  Adventure Fantasy Action   \n",
            "2      2  245000000                    Action Adventure Crime   \n",
            "3      3  250000000               Action Crime Drama Thriller   \n",
            "4      4  260000000          Action Adventure Science Fiction   \n",
            "\n",
            "                                       homepage      id  \\\n",
            "0                   http://www.avatarmovie.com/   19995   \n",
            "1  http://disney.go.com/disneypictures/pirates/     285   \n",
            "2   http://www.sonypictures.com/movies/spectre/  206647   \n",
            "3            http://www.thedarkknightrises.com/   49026   \n",
            "4          http://movies.disney.com/john-carter   49529   \n",
            "\n",
            "                                            keywords original_language  \\\n",
            "0  culture clash future space war space colony so...                en   \n",
            "1  ocean drug abuse exotic island east india trad...                en   \n",
            "2         spy based on novel secret agent sequel mi6                en   \n",
            "3  dc comics crime fighter terrorist secret ident...                en   \n",
            "4  based on novel mars medallion space travel pri...                en   \n",
            "\n",
            "                             original_title  \\\n",
            "0                                    Avatar   \n",
            "1  Pirates of the Caribbean: At World's End   \n",
            "2                                   Spectre   \n",
            "3                     The Dark Knight Rises   \n",
            "4                               John Carter   \n",
            "\n",
            "                                            overview  popularity  ... runtime  \\\n",
            "0  In the 22nd century, a paraplegic Marine is di...  150.437577  ...   162.0   \n",
            "1  Captain Barbossa, long believed to be dead, ha...  139.082615  ...   169.0   \n",
            "2  A cryptic message from Bond’s past sends him o...  107.376788  ...   148.0   \n",
            "3  Following the death of District Attorney Harve...  112.312950  ...   165.0   \n",
            "4  John Carter is a war-weary, former military ca...   43.926995  ...   132.0   \n",
            "\n",
            "                                    spoken_languages    status  \\\n",
            "0  [{\"iso_639_1\": \"en\", \"name\": \"English\"}, {\"iso...  Released   \n",
            "1           [{\"iso_639_1\": \"en\", \"name\": \"English\"}]  Released   \n",
            "2  [{\"iso_639_1\": \"fr\", \"name\": \"Fran\\u00e7ais\"},...  Released   \n",
            "3           [{\"iso_639_1\": \"en\", \"name\": \"English\"}]  Released   \n",
            "4           [{\"iso_639_1\": \"en\", \"name\": \"English\"}]  Released   \n",
            "\n",
            "                                          tagline  \\\n",
            "0                     Enter the World of Pandora.   \n",
            "1  At the end of the world, the adventure begins.   \n",
            "2                           A Plan No One Escapes   \n",
            "3                                 The Legend Ends   \n",
            "4            Lost in our world, found in another.   \n",
            "\n",
            "                                      title vote_average vote_count  \\\n",
            "0                                    Avatar          7.2      11800   \n",
            "1  Pirates of the Caribbean: At World's End          6.9       4500   \n",
            "2                                   Spectre          6.3       4466   \n",
            "3                     The Dark Knight Rises          7.6       9106   \n",
            "4                               John Carter          6.1       2124   \n",
            "\n",
            "                                                cast  \\\n",
            "0  Sam Worthington Zoe Saldana Sigourney Weaver S...   \n",
            "1  Johnny Depp Orlando Bloom Keira Knightley Stel...   \n",
            "2  Daniel Craig Christoph Waltz L\\u00e9a Seydoux ...   \n",
            "3  Christian Bale Michael Caine Gary Oldman Anne ...   \n",
            "4  Taylor Kitsch Lynn Collins Samantha Morton Wil...   \n",
            "\n",
            "                                                crew           director  \n",
            "0  [{'name': 'Stephen E. Rivkin', 'gender': 0, 'd...      James Cameron  \n",
            "1  [{'name': 'Dariusz Wolski', 'gender': 2, 'depa...     Gore Verbinski  \n",
            "2  [{'name': 'Thomas Newman', 'gender': 2, 'depar...         Sam Mendes  \n",
            "3  [{'name': 'Hans Zimmer', 'gender': 2, 'departm...  Christopher Nolan  \n",
            "4  [{'name': 'Andrew Stanton', 'gender': 2, 'depa...     Andrew Stanton  \n",
            "\n",
            "[5 rows x 24 columns]\n"
          ]
        }
      ]
    },
    {
      "cell_type": "code",
      "source": [
        "# Selecting features for recommendation\n",
        "featured_features = ['genres', 'keywords', 'tagline', 'cast', 'director']\n",
        "print(featured_features)"
      ],
      "metadata": {
        "colab": {
          "base_uri": "https://localhost:8080/"
        },
        "id": "3XZKRZy7iD7k",
        "outputId": "312cf0cd-457b-445e-8589-c302114edcd5"
      },
      "execution_count": 18,
      "outputs": [
        {
          "output_type": "stream",
          "name": "stdout",
          "text": [
            "['genres', 'keywords', 'tagline', 'cast', 'director']\n"
          ]
        }
      ]
    },
    {
      "cell_type": "code",
      "source": [
        "# Handling missing values\n",
        "for feature in featured_features:\n",
        "    movie_data[feature] = movie_data[feature].fillna('')"
      ],
      "metadata": {
        "id": "mgnIly5Xi0GE"
      },
      "execution_count": 19,
      "outputs": []
    },
    {
      "cell_type": "code",
      "source": [
        "# Combining selected features into a single string\n",
        "combined_features = movie_data['genres'] + ' ' + movie_data['keywords'] + ' ' + movie_data['tagline'] + ' ' + movie_data['cast'] + ' ' + movie_data['director']"
      ],
      "metadata": {
        "id": "KVkPsp8J7LV3"
      },
      "execution_count": 20,
      "outputs": []
    },
    {
      "cell_type": "code",
      "source": [
        "# Converting data into feature vectors\n",
        "vectorizer = TfidfVectorizer(stop_words='english')\n",
        "feat_vector = vectorizer.fit_transform(combined_features)"
      ],
      "metadata": {
        "id": "mdxGyEb4jmbO"
      },
      "execution_count": 21,
      "outputs": []
    },
    {
      "cell_type": "code",
      "source": [
        "# Computing similarity scores using cosine similarity\n",
        "similar = cosine_similarity(feat_vector)"
      ],
      "metadata": {
        "id": "fI6XMepNkvAr"
      },
      "execution_count": 22,
      "outputs": []
    },
    {
      "cell_type": "markdown",
      "source": [
        "Function to recommend movies"
      ],
      "metadata": {
        "id": "l2QctzWplZIW"
      }
    },
    {
      "cell_type": "code",
      "source": [
        "def recommend_movies(movie_name, num_recommendations=10):\n",
        "    if movie_name not in movie_data['title'].values:\n",
        "        return \"Movie not found in the dataset.\"\n",
        "    list_all_titles = movie_data['title'].tolist()"
      ],
      "metadata": {
        "id": "dQ-Xm7ki7iev"
      },
      "execution_count": 27,
      "outputs": []
    },
    {
      "cell_type": "code",
      "source": [
        "    #finding close match for the input movie\n",
        "    close_matches = difflib.get_close_matches(movie_name, list_all_titles)\n",
        "    if not close_matches:\n",
        "        return \"No matching movies found. Please try another title.\""
      ],
      "metadata": {
        "colab": {
          "base_uri": "https://localhost:8080/",
          "height": 193
        },
        "id": "2m9gDzB8l9Hq",
        "outputId": "1676c82b-56da-4c65-a59b-dfe2270b15cd"
      },
      "execution_count": 30,
      "outputs": [
        {
          "output_type": "error",
          "ename": "NameError",
          "evalue": "name 'list_all_titles' is not defined",
          "traceback": [
            "\u001b[0;31m---------------------------------------------------------------------------\u001b[0m",
            "\u001b[0;31mNameError\u001b[0m                                 Traceback (most recent call last)",
            "\u001b[0;32m<ipython-input-30-4732ff1598f0>\u001b[0m in \u001b[0;36m<cell line: 0>\u001b[0;34m()\u001b[0m\n\u001b[1;32m      1\u001b[0m \u001b[0;31m#finding close match for the input movie\u001b[0m\u001b[0;34m\u001b[0m\u001b[0;34m\u001b[0m\u001b[0m\n\u001b[0;32m----> 2\u001b[0;31m \u001b[0mclose_matches\u001b[0m \u001b[0;34m=\u001b[0m \u001b[0mdifflib\u001b[0m\u001b[0;34m.\u001b[0m\u001b[0mget_close_matches\u001b[0m\u001b[0;34m(\u001b[0m\u001b[0mmovie_name\u001b[0m\u001b[0;34m,\u001b[0m \u001b[0mlist_all_titles\u001b[0m\u001b[0;34m)\u001b[0m\u001b[0;34m\u001b[0m\u001b[0;34m\u001b[0m\u001b[0m\n\u001b[0m\u001b[1;32m      3\u001b[0m \u001b[0;32mif\u001b[0m \u001b[0;32mnot\u001b[0m \u001b[0mclose_matches\u001b[0m\u001b[0;34m:\u001b[0m\u001b[0;34m\u001b[0m\u001b[0;34m\u001b[0m\u001b[0m\n\u001b[1;32m      4\u001b[0m     \u001b[0;32mreturn\u001b[0m \u001b[0;34m\"No matching movies found. Please try another title.\"\u001b[0m\u001b[0;34m\u001b[0m\u001b[0;34m\u001b[0m\u001b[0m\n",
            "\u001b[0;31mNameError\u001b[0m: name 'list_all_titles' is not defined"
          ]
        }
      ]
    },
    {
      "cell_type": "code",
      "source": [
        "#find index of movie with title\n",
        "    close_match = close_matches[0]\n",
        "    index_movie = movie_data[movie_data.title == close_match].index[0]"
      ],
      "metadata": {
        "id": "T2cCgL1wmZqf"
      },
      "execution_count": null,
      "outputs": []
    },
    {
      "cell_type": "code",
      "source": [
        "#getting list of similar movies\n",
        "    similar_score = list(enumerate(similar[index_movie]))\n",
        "    sorted_similar_movies = sorted(similar_score, key=lambda x: x[1], reverse=True)[1:num_recommendations+1]"
      ],
      "metadata": {
        "id": "-BbL1bcDm4oM"
      },
      "execution_count": null,
      "outputs": []
    },
    {
      "cell_type": "code",
      "source": [
        "#sort movies list\n",
        "sorted_similar_movies=sorted(similar_score,key=lambda x:x[1],reverse=True)\n",
        "print(sorted_similar_movies)"
      ],
      "metadata": {
        "id": "b803EoPdnNZz"
      },
      "execution_count": null,
      "outputs": []
    },
    {
      "cell_type": "code",
      "source": [
        "#print movies based on index\n",
        "    print(\"Suggested Movies for you:\\n\")\n",
        "    recommendations = []\n",
        "    for i, (index, score) in enumerate(sorted_similar_movies, 1):\n",
        "        title_from_index = movie_data.iloc[index]['title']\n",
        "        recommendations.append(f\"{i}. {title_from_index}\")\n",
        "\n",
        "    return \"\\n\".join(recommendations)"
      ],
      "metadata": {
        "id": "8t4fqyjunip8"
      },
      "execution_count": null,
      "outputs": []
    },
    {
      "cell_type": "markdown",
      "source": [
        "Movie Recommender"
      ],
      "metadata": {
        "id": "d-86Jn9BoGT0"
      }
    },
    {
      "cell_type": "code",
      "source": [
        "movie_name = input(\"Enter a movie name: \")\n",
        "print(recommend_movies(movie_name, num_recommendations=10))"
      ],
      "metadata": {
        "colab": {
          "base_uri": "https://localhost:8080/"
        },
        "id": "fHo7E7WioJ8C",
        "outputId": "7034d781-e84f-47ec-b4a6-1fa7dcde5bf8"
      },
      "execution_count": 29,
      "outputs": [
        {
          "output_type": "stream",
          "name": "stdout",
          "text": [
            "Enter a movie name: King Kong\n",
            "None\n"
          ]
        }
      ]
    }
  ]
}